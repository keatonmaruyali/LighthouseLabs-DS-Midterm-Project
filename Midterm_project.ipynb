{
 "cells": [
  {
   "cell_type": "markdown",
   "metadata": {},
   "source": [
    "## 1. Initialize connection to get data:"
   ]
  },
  {
   "cell_type": "code",
   "execution_count": 27,
   "metadata": {},
   "outputs": [],
   "source": [
    "import pandas as pd\n",
    "import psycopg2\n",
    "from sqlalchemy import create_engine\n",
    "con = psycopg2.connect(database=\"mid_term_project\", user=\"lhl_student\", password=\"lhl_student\", \n",
    "                       host=\"mid-term-project.ca2jkepgjpne.us-east-2.rds.amazonaws.com\", port=\"5432\")\n",
    "cur = con.cursor()"
   ]
  },
  {
   "cell_type": "markdown",
   "metadata": {},
   "source": [
    "### Task 4"
   ]
  },
  {
   "cell_type": "code",
   "execution_count": 28,
   "metadata": {},
   "outputs": [],
   "source": [
    "cur.execute(\"SELECT crs_dep_time, COUNT(crs_dep_time) from flights GROUP BY crs_dep_time ORDER BY crs_dep_time ASC\")\n",
    "res = cur.fetchall()\n",
    "df_flights_times = pd.DataFrame(res)"
   ]
  },
  {
   "cell_type": "code",
   "execution_count": 19,
   "metadata": {},
   "outputs": [
    {
     "data": {
      "text/html": [
       "<div>\n",
       "<style scoped>\n",
       "    .dataframe tbody tr th:only-of-type {\n",
       "        vertical-align: middle;\n",
       "    }\n",
       "\n",
       "    .dataframe tbody tr th {\n",
       "        vertical-align: top;\n",
       "    }\n",
       "\n",
       "    .dataframe thead th {\n",
       "        text-align: right;\n",
       "    }\n",
       "</style>\n",
       "<table border=\"1\" class=\"dataframe\">\n",
       "  <thead>\n",
       "    <tr style=\"text-align: right;\">\n",
       "      <th></th>\n",
       "      <th>0</th>\n",
       "      <th>1</th>\n",
       "    </tr>\n",
       "  </thead>\n",
       "  <tbody>\n",
       "    <tr>\n",
       "      <th>0</th>\n",
       "      <td>1</td>\n",
       "      <td>166</td>\n",
       "    </tr>\n",
       "    <tr>\n",
       "      <th>1</th>\n",
       "      <td>2</td>\n",
       "      <td>62</td>\n",
       "    </tr>\n",
       "    <tr>\n",
       "      <th>2</th>\n",
       "      <td>3</td>\n",
       "      <td>89</td>\n",
       "    </tr>\n",
       "    <tr>\n",
       "      <th>3</th>\n",
       "      <td>4</td>\n",
       "      <td>261</td>\n",
       "    </tr>\n",
       "    <tr>\n",
       "      <th>4</th>\n",
       "      <td>5</td>\n",
       "      <td>1275</td>\n",
       "    </tr>\n",
       "    <tr>\n",
       "      <th>...</th>\n",
       "      <td>...</td>\n",
       "      <td>...</td>\n",
       "    </tr>\n",
       "    <tr>\n",
       "      <th>1407</th>\n",
       "      <td>2355</td>\n",
       "      <td>7108</td>\n",
       "    </tr>\n",
       "    <tr>\n",
       "      <th>1408</th>\n",
       "      <td>2356</td>\n",
       "      <td>907</td>\n",
       "    </tr>\n",
       "    <tr>\n",
       "      <th>1409</th>\n",
       "      <td>2357</td>\n",
       "      <td>788</td>\n",
       "    </tr>\n",
       "    <tr>\n",
       "      <th>1410</th>\n",
       "      <td>2358</td>\n",
       "      <td>1070</td>\n",
       "    </tr>\n",
       "    <tr>\n",
       "      <th>1411</th>\n",
       "      <td>2359</td>\n",
       "      <td>12882</td>\n",
       "    </tr>\n",
       "  </tbody>\n",
       "</table>\n",
       "<p>1412 rows × 2 columns</p>\n",
       "</div>"
      ],
      "text/plain": [
       "         0      1\n",
       "0        1    166\n",
       "1        2     62\n",
       "2        3     89\n",
       "3        4    261\n",
       "4        5   1275\n",
       "...    ...    ...\n",
       "1407  2355   7108\n",
       "1408  2356    907\n",
       "1409  2357    788\n",
       "1410  2358   1070\n",
       "1411  2359  12882\n",
       "\n",
       "[1412 rows x 2 columns]"
      ]
     },
     "execution_count": 19,
     "metadata": {},
     "output_type": "execute_result"
    }
   ],
   "source": [
    "df_flights_times"
   ]
  },
  {
   "cell_type": "code",
   "execution_count": 53,
   "metadata": {},
   "outputs": [
    {
     "data": {
      "image/png": "[encoded data removed]",
      "text/plain": [
       "<Figure size 432x288 with 1 Axes>"
      ]
     },
     "metadata": {},
     "output_type": "display_data"
    }
   ],
   "source": [
    "df_flights_times['Hour of Day'] = df_flights_times[0] // 100\n",
    "plt_times = df_flights_times.groupby('Hour of Day').sum()\n",
    "import matplotlib.pyplot as plt\n",
    "plt.plot(plt_times.index, plt_times[1])\n",
    "plt.title('Flight Departure Details')\n",
    "plt.xlabel('Hour of the Day')\n",
    "plt.ylabel('Total Number of Departures')\n",
    "plt.show()"
   ]
  },
  {
   "cell_type": "code",
   "execution_count": 43,
   "metadata": {},
   "outputs": [],
   "source": [
    "cur.execute(\"SELECT crs_dep_time, SUM(taxi_out), SUM(taxi_in) from flights GROUP BY crs_dep_time ORDER BY crs_dep_time ASC\")\n",
    "res = cur.fetchall()\n",
    "df_flights_taxiTimes = pd.DataFrame(res)"
   ]
  },
  {
   "cell_type": "code",
   "execution_count": 44,
   "metadata": {},
   "outputs": [
    {
     "data": {
      "text/html": [
       "<div>\n",
       "<style scoped>\n",
       "    .dataframe tbody tr th:only-of-type {\n",
       "        vertical-align: middle;\n",
       "    }\n",
       "\n",
       "    .dataframe tbody tr th {\n",
       "        vertical-align: top;\n",
       "    }\n",
       "\n",
       "    .dataframe thead th {\n",
       "        text-align: right;\n",
       "    }\n",
       "</style>\n",
       "<table border=\"1\" class=\"dataframe\">\n",
       "  <thead>\n",
       "    <tr style=\"text-align: right;\">\n",
       "      <th></th>\n",
       "      <th>0</th>\n",
       "      <th>1</th>\n",
       "      <th>2</th>\n",
       "    </tr>\n",
       "  </thead>\n",
       "  <tbody>\n",
       "    <tr>\n",
       "      <th>0</th>\n",
       "      <td>1</td>\n",
       "      <td>2664.0</td>\n",
       "      <td>1163.0</td>\n",
       "    </tr>\n",
       "    <tr>\n",
       "      <th>1</th>\n",
       "      <td>2</td>\n",
       "      <td>763.0</td>\n",
       "      <td>588.0</td>\n",
       "    </tr>\n",
       "    <tr>\n",
       "      <th>2</th>\n",
       "      <td>3</td>\n",
       "      <td>1643.0</td>\n",
       "      <td>873.0</td>\n",
       "    </tr>\n",
       "    <tr>\n",
       "      <th>3</th>\n",
       "      <td>4</td>\n",
       "      <td>4360.0</td>\n",
       "      <td>2001.0</td>\n",
       "    </tr>\n",
       "    <tr>\n",
       "      <th>4</th>\n",
       "      <td>5</td>\n",
       "      <td>19800.0</td>\n",
       "      <td>10045.0</td>\n",
       "    </tr>\n",
       "    <tr>\n",
       "      <th>...</th>\n",
       "      <td>...</td>\n",
       "      <td>...</td>\n",
       "      <td>...</td>\n",
       "    </tr>\n",
       "    <tr>\n",
       "      <th>1407</th>\n",
       "      <td>2355</td>\n",
       "      <td>122165.0</td>\n",
       "      <td>49911.0</td>\n",
       "    </tr>\n",
       "    <tr>\n",
       "      <th>1408</th>\n",
       "      <td>2356</td>\n",
       "      <td>14781.0</td>\n",
       "      <td>6613.0</td>\n",
       "    </tr>\n",
       "    <tr>\n",
       "      <th>1409</th>\n",
       "      <td>2357</td>\n",
       "      <td>11524.0</td>\n",
       "      <td>6664.0</td>\n",
       "    </tr>\n",
       "    <tr>\n",
       "      <th>1410</th>\n",
       "      <td>2358</td>\n",
       "      <td>15933.0</td>\n",
       "      <td>8436.0</td>\n",
       "    </tr>\n",
       "    <tr>\n",
       "      <th>1411</th>\n",
       "      <td>2359</td>\n",
       "      <td>202813.0</td>\n",
       "      <td>100145.0</td>\n",
       "    </tr>\n",
       "  </tbody>\n",
       "</table>\n",
       "<p>1412 rows × 3 columns</p>\n",
       "</div>"
      ],
      "text/plain": [
       "         0         1         2\n",
       "0        1    2664.0    1163.0\n",
       "1        2     763.0     588.0\n",
       "2        3    1643.0     873.0\n",
       "3        4    4360.0    2001.0\n",
       "4        5   19800.0   10045.0\n",
       "...    ...       ...       ...\n",
       "1407  2355  122165.0   49911.0\n",
       "1408  2356   14781.0    6613.0\n",
       "1409  2357   11524.0    6664.0\n",
       "1410  2358   15933.0    8436.0\n",
       "1411  2359  202813.0  100145.0\n",
       "\n",
       "[1412 rows x 3 columns]"
      ]
     },
     "execution_count": 44,
     "metadata": {},
     "output_type": "execute_result"
    }
   ],
   "source": [
    "df_flights_taxiTimes"
   ]
  },
  {
   "cell_type": "code",
   "execution_count": 54,
   "metadata": {},
   "outputs": [
    {
     "data": {
      "image/png": "[encoded data removed]",
      "text/plain": [
       "<Figure size 432x288 with 1 Axes>"
      ]
     },
     "metadata": {},
     "output_type": "display_data"
    }
   ],
   "source": [
    "df_flights_taxiTimes['Hour of Day'] = df_flights_taxiTimes[0] // 100\n",
    "plt_taxiTimes = df_flights_taxiTimes.groupby('Hour of Day').sum()\n",
    "x1 = plt_taxiTimes.index\n",
    "y1 = plt_taxiTimes[1]\n",
    "x2 = plt_taxiTimes.index\n",
    "y2 = plt_taxiTimes[2]\n",
    "plt.plot(x1,y1,label='Taxi Out Times')\n",
    "plt.plot(x2,y2,label='Taxi In Times')\n",
    "plt.title('Taxi Time Details')\n",
    "plt.xlabel('Hour of the Day')\n",
    "plt.ylabel('Summed Taxi Times')\n",
    "plt.legend()\n",
    "plt.show()"
   ]
  },
  {
   "cell_type": "markdown",
   "metadata": {},
   "source": [
    "### Task 6"
   ]
  },
  {
   "cell_type": "code",
   "execution_count": 79,
   "metadata": {},
   "outputs": [],
   "source": [
    "cur.execute(\"SELECT origin, COUNT(origin) from flights IF GROUP BY origin ORDER BY COUNT(origin) DESC\")\n",
    "res = cur.fetchall()\n",
    "df_flights_origin = pd.DataFrame(res)"
   ]
  },
  {
   "cell_type": "code",
   "execution_count": 80,
   "metadata": {},
   "outputs": [],
   "source": [
    "df_flights_origin['Percentage of Total Us Flights'] = (df_flights_origin[1] / df_flights_origin[1].sum())*100"
   ]
  },
  {
   "cell_type": "code",
   "execution_count": 81,
   "metadata": {
    "scrolled": true
   },
   "outputs": [
    {
     "data": {
      "text/html": [
       "<div>\n",
       "<style scoped>\n",
       "    .dataframe tbody tr th:only-of-type {\n",
       "        vertical-align: middle;\n",
       "    }\n",
       "\n",
       "    .dataframe tbody tr th {\n",
       "        vertical-align: top;\n",
       "    }\n",
       "\n",
       "    .dataframe thead th {\n",
       "        text-align: right;\n",
       "    }\n",
       "</style>\n",
       "<table border=\"1\" class=\"dataframe\">\n",
       "  <thead>\n",
       "    <tr style=\"text-align: right;\">\n",
       "      <th></th>\n",
       "      <th>0</th>\n",
       "      <th>1</th>\n",
       "      <th>Percentage of Total Us Flights</th>\n",
       "    </tr>\n",
       "  </thead>\n",
       "  <tbody>\n",
       "    <tr>\n",
       "      <th>0</th>\n",
       "      <td>ORD</td>\n",
       "      <td>790253</td>\n",
       "      <td>4.961568</td>\n",
       "    </tr>\n",
       "    <tr>\n",
       "      <th>1</th>\n",
       "      <td>ATL</td>\n",
       "      <td>785850</td>\n",
       "      <td>4.933924</td>\n",
       "    </tr>\n",
       "    <tr>\n",
       "      <th>2</th>\n",
       "      <td>DFW</td>\n",
       "      <td>584688</td>\n",
       "      <td>3.670937</td>\n",
       "    </tr>\n",
       "    <tr>\n",
       "      <th>3</th>\n",
       "      <td>DEN</td>\n",
       "      <td>552134</td>\n",
       "      <td>3.466549</td>\n",
       "    </tr>\n",
       "    <tr>\n",
       "      <th>4</th>\n",
       "      <td>CLT</td>\n",
       "      <td>501557</td>\n",
       "      <td>3.149003</td>\n",
       "    </tr>\n",
       "    <tr>\n",
       "      <th>...</th>\n",
       "      <td>...</td>\n",
       "      <td>...</td>\n",
       "      <td>...</td>\n",
       "    </tr>\n",
       "    <tr>\n",
       "      <th>371</th>\n",
       "      <td>BFM</td>\n",
       "      <td>158</td>\n",
       "      <td>0.000992</td>\n",
       "    </tr>\n",
       "    <tr>\n",
       "      <th>372</th>\n",
       "      <td>ROP</td>\n",
       "      <td>151</td>\n",
       "      <td>0.000948</td>\n",
       "    </tr>\n",
       "    <tr>\n",
       "      <th>373</th>\n",
       "      <td>AKN</td>\n",
       "      <td>124</td>\n",
       "      <td>0.000779</td>\n",
       "    </tr>\n",
       "    <tr>\n",
       "      <th>374</th>\n",
       "      <td>IFP</td>\n",
       "      <td>45</td>\n",
       "      <td>0.000283</td>\n",
       "    </tr>\n",
       "    <tr>\n",
       "      <th>375</th>\n",
       "      <td>YNG</td>\n",
       "      <td>2</td>\n",
       "      <td>0.000013</td>\n",
       "    </tr>\n",
       "  </tbody>\n",
       "</table>\n",
       "<p>376 rows × 3 columns</p>\n",
       "</div>"
      ],
      "text/plain": [
       "       0       1  Percentage of Total Us Flights\n",
       "0    ORD  790253                        4.961568\n",
       "1    ATL  785850                        4.933924\n",
       "2    DFW  584688                        3.670937\n",
       "3    DEN  552134                        3.466549\n",
       "4    CLT  501557                        3.149003\n",
       "..   ...     ...                             ...\n",
       "371  BFM     158                        0.000992\n",
       "372  ROP     151                        0.000948\n",
       "373  AKN     124                        0.000779\n",
       "374  IFP      45                        0.000283\n",
       "375  YNG       2                        0.000013\n",
       "\n",
       "[376 rows x 3 columns]"
      ]
     },
     "execution_count": 81,
     "metadata": {},
     "output_type": "execute_result"
    }
   ],
   "source": [
    "df_flights_origin"
   ]
  },
  {
   "cell_type": "code",
   "execution_count": 108,
   "metadata": {},
   "outputs": [
    {
     "name": "stdout",
     "output_type": "stream",
     "text": [
      "19 states make up 50.32315522507164\n",
      "['ORD', 'ATL', 'DFW', 'DEN', 'CLT', 'LAX', 'SEA', 'SFO', 'PHX', 'IAH', 'DTW', 'LGA', 'LAS', 'MSP', 'EWR', 'PHL', 'BOS', 'DCA', 'MCO'] \n",
      "\n",
      "39 states make up 30.031715616118927\n",
      "['JFK', 'SLC', 'BWI', 'FLL', 'SAN', 'IAD', 'MIA', 'PDX', 'MDW', 'BNA', 'TPA', 'STL', 'DAL', 'RDU', 'SJC', 'AUS', 'HOU', 'MSY', 'MCI', 'SMF', 'HNL', 'OAK', 'IND', 'CLE', 'CVG', 'PIT', 'CMH', 'SNA', 'SAT', 'MKE', 'JAX', 'RSW', 'BUR', 'BDL', 'BUF', 'RIC', 'SDF', 'OMA', 'ABQ'] \n",
      "\n",
      "318 states make up 19.645129158809432\n",
      "['CHS', 'OGG', 'MEM', 'ORF', 'SJU', 'PBI', 'OKC', 'BOI', 'RNO', 'ONT', 'GEG', 'GRR', 'BHM', 'PVD', 'TYS', 'ANC', 'TUS', 'ELP', 'ROC', 'SAV', 'TUL', 'DSM', 'GSO', 'SYR', 'ALB', 'GSP', 'DAY', 'LGB', 'MSN', 'KOA', 'PWM', 'XNA', 'LIT', 'LIH', 'FAT', 'LEX', 'PNS', 'HPN', 'MYR', 'BTV', 'ICT', 'PSP', 'MHT', 'COS', 'MDT', 'CAE', 'HSV', 'SGF', 'CID', 'SFB', 'CHA', 'MAF', 'AVL', 'MFR', 'EUG', 'CHO', 'ILM', 'RDM', 'FSD', 'VPS', 'JAN', 'CAK', 'BZN', 'BTR', 'PIE', 'SBA', 'FWA', 'SRQ', 'SBN', 'ROA', 'FAR', 'LBB', 'SHV', 'ISP', 'PSC', 'ASE', 'MOB', 'ATW', 'MLI', 'TLH', 'GRB', 'ITO', 'PIA', 'ECP', 'ABE', 'RAP', 'AMA', 'MSO', 'AVP', 'CRP', 'BGR', 'CRW', 'EVV', 'AZA', 'TVC', 'SBP', 'PGD', 'BIL', 'EYW', 'BIS', 'AGS', 'MFE', 'LFT', 'GNV', 'FAI', 'FNT', 'GJT', 'SCE', 'FCA', 'JAC', 'MGM', 'FAY', 'JNU', 'MRY', 'GPT', 'RST', 'LAN', 'TRI', 'DRO', 'STS', 'PHF', 'HRL', 'AZO', 'LNK', 'BLI', 'PAE', 'CWA', 'DAB', 'OAJ', 'AEX', 'ACY', 'GRK', 'GTF', 'STT', 'BMI', 'DLH', 'COU', 'MLU', 'MBS', 'CMI', 'ITH', 'SGU', 'IDA', 'SWF', 'MTJ', 'TTN', 'MOT', 'ELM', 'BRO', 'SAF', 'EWN', 'LRD', 'MLB', 'ERI', 'KTN', 'BFL', 'EGE', 'HLN', 'CLL', 'CPR', 'LSE', 'ABI', 'BQN', 'GFK', 'FSM', 'TOL', 'LYH', 'LCH', 'SBY', 'MHK', 'FLG', 'LNY', 'SUN', 'SPI', 'HDN', 'ACV', 'ISN', 'ACT', 'SJT', 'YUM', 'HHH', 'HTS', 'PGV', 'TYR', 'ORH', 'ROW', 'MQT', 'DHN', 'SIT', 'LAW', 'JHM', 'PUW', 'ACK', 'FLO', 'RDD', 'CSG', 'SUX', 'YKM', 'TWF', 'TXK', 'USA', 'PIH', 'LWS', 'EAT', 'HYS', 'SPS', 'PBG', 'GUM', 'LBE', 'GTR', 'COD', 'JLN', 'MKK', 'GRI', 'LCK', 'PLN', 'HVN', 'VLD', 'BQK', 'MEI', 'DBQ', 'BLV', 'ABY', 'STX', 'PAH', 'JMS', 'SCC', 'BGM', 'BPT', 'PUB', 'ALW', 'SCK', 'GGG', 'SWO', 'BET', 'CKB', 'IAG', 'GUC', 'SLN', 'PSE', 'GCC', 'DUT', 'CGI', 'IPT', 'UIN', 'RHI', 'ABR', 'SPN', 'BJI', 'GCK', 'BRW', 'CMX', 'PSG', 'EAU', 'WRG', 'MKG', 'CDV', 'YAK', 'OME', 'OTZ', 'PIB', 'ART', 'HOB', 'RFD', 'RKS', 'CDC', 'ALO', 'SHD', 'BTM', 'CIU', 'IMT', 'EKO', 'INL', 'DIK', 'PVU', 'ADQ', 'BRD', 'LAR', 'DVL', 'HIB', 'ESC', 'LWB', 'APN', 'BFF', 'LBF', 'LBL', 'MMH', 'MVY', 'CNY', 'PRC', 'VEL', 'PQI', 'EAR', 'DRT', 'OTH', 'PSM', 'OGS', 'PIR', 'CYS', 'ATY', 'WYS', 'XWA', 'SMX', 'HGR', 'BKG', 'STC', 'PPG', 'OGD', 'OWB', 'ADK', 'HYA', 'GST', 'DLG', 'BFM', 'ROP', 'AKN', 'IFP', 'YNG'] \n",
      "\n"
     ]
    }
   ],
   "source": [
    "total_percentage_top = 0\n",
    "total_perc_mid = 0\n",
    "total_prec_low = 0\n",
    "top_fifty_percent = []\n",
    "next_thirty = []\n",
    "last_twenty = []\n",
    "for x in df_flights_origin.index:\n",
    "    if total_percentage_top < 50:\n",
    "        total_percentage_top += df_flights_origin['Percentage of Total Us Flights'][x]\n",
    "        top_fifty_percent.append(df_flights_origin[0][x])\n",
    "    elif total_perc_mid < 30:\n",
    "        total_perc_mid += df_flights_origin['Percentage of Total Us Flights'][x]\n",
    "        next_thirty.append(df_flights_origin[0][x])\n",
    "    elif total_prec_low < 20:\n",
    "        total_prec_low += df_flights_origin['Percentage of Total Us Flights'][x]\n",
    "        last_twenty.append(df_flights_origin[0][x])\n",
    "print(len(top_fifty_percent), 'states make up', total_percentage_top)\n",
    "print(top_fifty_percent,'\\n')\n",
    "print(len(next_thirty), 'states make up', total_perc_mid)\n",
    "print(next_thirty,'\\n')\n",
    "print(len(last_twenty), 'states make up', total_prec_low)\n",
    "print(last_twenty,'\\n')\n"
   ]
  },
  {
   "cell_type": "code",
   "execution_count": null,
   "metadata": {},
   "outputs": [],
   "source": []
  },
  {
   "cell_type": "code",
   "execution_count": null,
   "metadata": {},
   "outputs": [],
   "source": []
  },
  {
   "cell_type": "code",
   "execution_count": 9,
   "metadata": {},
   "outputs": [],
   "source": [
    "cur.execute(\"SELECT * from flights LIMIT 20000;\")\n",
    "res = cur.fetchall()\n",
    "df_flights = pd.DataFrame(res)"
   ]
  },
  {
   "cell_type": "code",
   "execution_count": 58,
   "metadata": {
    "scrolled": false
   },
   "outputs": [
    {
     "data": {
      "text/html": [
       "<div>\n",
       "<style scoped>\n",
       "    .dataframe tbody tr th:only-of-type {\n",
       "        vertical-align: middle;\n",
       "    }\n",
       "\n",
       "    .dataframe tbody tr th {\n",
       "        vertical-align: top;\n",
       "    }\n",
       "\n",
       "    .dataframe thead th {\n",
       "        text-align: right;\n",
       "    }\n",
       "</style>\n",
       "<table border=\"1\" class=\"dataframe\">\n",
       "  <thead>\n",
       "    <tr style=\"text-align: right;\">\n",
       "      <th></th>\n",
       "      <th>7</th>\n",
       "      <th>8</th>\n",
       "      <th>9</th>\n",
       "      <th>10</th>\n",
       "      <th>11</th>\n",
       "      <th>12</th>\n",
       "      <th>13</th>\n",
       "      <th>14</th>\n",
       "      <th>15</th>\n",
       "    </tr>\n",
       "  </thead>\n",
       "  <tbody>\n",
       "    <tr>\n",
       "      <th>0</th>\n",
       "      <td>1383</td>\n",
       "      <td>12889</td>\n",
       "      <td>LAS</td>\n",
       "      <td>Las Vegas, NV</td>\n",
       "      <td>10713</td>\n",
       "      <td>BOI</td>\n",
       "      <td>Boise, ID</td>\n",
       "      <td>845</td>\n",
       "      <td>841.0</td>\n",
       "    </tr>\n",
       "    <tr>\n",
       "      <th>1</th>\n",
       "      <td>641</td>\n",
       "      <td>12889</td>\n",
       "      <td>LAS</td>\n",
       "      <td>Las Vegas, NV</td>\n",
       "      <td>10792</td>\n",
       "      <td>BUF</td>\n",
       "      <td>Buffalo, NY</td>\n",
       "      <td>915</td>\n",
       "      <td>920.0</td>\n",
       "    </tr>\n",
       "    <tr>\n",
       "      <th>2</th>\n",
       "      <td>2230</td>\n",
       "      <td>12889</td>\n",
       "      <td>LAS</td>\n",
       "      <td>Las Vegas, NV</td>\n",
       "      <td>10792</td>\n",
       "      <td>BUF</td>\n",
       "      <td>Buffalo, NY</td>\n",
       "      <td>1720</td>\n",
       "      <td>1803.0</td>\n",
       "    </tr>\n",
       "    <tr>\n",
       "      <th>3</th>\n",
       "      <td>193</td>\n",
       "      <td>12889</td>\n",
       "      <td>LAS</td>\n",
       "      <td>Las Vegas, NV</td>\n",
       "      <td>10800</td>\n",
       "      <td>BUR</td>\n",
       "      <td>Burbank, CA</td>\n",
       "      <td>1125</td>\n",
       "      <td>1121.0</td>\n",
       "    </tr>\n",
       "    <tr>\n",
       "      <th>4</th>\n",
       "      <td>246</td>\n",
       "      <td>14027</td>\n",
       "      <td>PBI</td>\n",
       "      <td>West Palm Beach/Palm Beach, FL</td>\n",
       "      <td>11057</td>\n",
       "      <td>CLT</td>\n",
       "      <td>Charlotte, NC</td>\n",
       "      <td>1353</td>\n",
       "      <td>1409.0</td>\n",
       "    </tr>\n",
       "    <tr>\n",
       "      <th>...</th>\n",
       "      <td>...</td>\n",
       "      <td>...</td>\n",
       "      <td>...</td>\n",
       "      <td>...</td>\n",
       "      <td>...</td>\n",
       "      <td>...</td>\n",
       "      <td>...</td>\n",
       "      <td>...</td>\n",
       "      <td>...</td>\n",
       "    </tr>\n",
       "    <tr>\n",
       "      <th>19995</th>\n",
       "      <td>2212</td>\n",
       "      <td>10423</td>\n",
       "      <td>AUS</td>\n",
       "      <td>Austin, TX</td>\n",
       "      <td>11540</td>\n",
       "      <td>ELP</td>\n",
       "      <td>El Paso, TX</td>\n",
       "      <td>2130</td>\n",
       "      <td>2145.0</td>\n",
       "    </tr>\n",
       "    <tr>\n",
       "      <th>19996</th>\n",
       "      <td>596</td>\n",
       "      <td>10423</td>\n",
       "      <td>AUS</td>\n",
       "      <td>Austin, TX</td>\n",
       "      <td>11618</td>\n",
       "      <td>EWR</td>\n",
       "      <td>Newark, NJ</td>\n",
       "      <td>700</td>\n",
       "      <td>707.0</td>\n",
       "    </tr>\n",
       "    <tr>\n",
       "      <th>19997</th>\n",
       "      <td>1821</td>\n",
       "      <td>10423</td>\n",
       "      <td>AUS</td>\n",
       "      <td>Austin, TX</td>\n",
       "      <td>11618</td>\n",
       "      <td>EWR</td>\n",
       "      <td>Newark, NJ</td>\n",
       "      <td>1850</td>\n",
       "      <td>1855.0</td>\n",
       "    </tr>\n",
       "    <tr>\n",
       "      <th>19998</th>\n",
       "      <td>2310</td>\n",
       "      <td>10423</td>\n",
       "      <td>AUS</td>\n",
       "      <td>Austin, TX</td>\n",
       "      <td>11697</td>\n",
       "      <td>FLL</td>\n",
       "      <td>Fort Lauderdale, FL</td>\n",
       "      <td>1000</td>\n",
       "      <td>1001.0</td>\n",
       "    </tr>\n",
       "    <tr>\n",
       "      <th>19999</th>\n",
       "      <td>626</td>\n",
       "      <td>10423</td>\n",
       "      <td>AUS</td>\n",
       "      <td>Austin, TX</td>\n",
       "      <td>12191</td>\n",
       "      <td>HOU</td>\n",
       "      <td>Houston, TX</td>\n",
       "      <td>855</td>\n",
       "      <td>853.0</td>\n",
       "    </tr>\n",
       "  </tbody>\n",
       "</table>\n",
       "<p>20000 rows × 9 columns</p>\n",
       "</div>"
      ],
      "text/plain": [
       "          7      8    9                              10     11   12  \\\n",
       "0      1383  12889  LAS                   Las Vegas, NV  10713  BOI   \n",
       "1       641  12889  LAS                   Las Vegas, NV  10792  BUF   \n",
       "2      2230  12889  LAS                   Las Vegas, NV  10792  BUF   \n",
       "3       193  12889  LAS                   Las Vegas, NV  10800  BUR   \n",
       "4       246  14027  PBI  West Palm Beach/Palm Beach, FL  11057  CLT   \n",
       "...     ...    ...  ...                             ...    ...  ...   \n",
       "19995  2212  10423  AUS                      Austin, TX  11540  ELP   \n",
       "19996   596  10423  AUS                      Austin, TX  11618  EWR   \n",
       "19997  1821  10423  AUS                      Austin, TX  11618  EWR   \n",
       "19998  2310  10423  AUS                      Austin, TX  11697  FLL   \n",
       "19999   626  10423  AUS                      Austin, TX  12191  HOU   \n",
       "\n",
       "                        13    14      15  \n",
       "0                Boise, ID   845   841.0  \n",
       "1              Buffalo, NY   915   920.0  \n",
       "2              Buffalo, NY  1720  1803.0  \n",
       "3              Burbank, CA  1125  1121.0  \n",
       "4            Charlotte, NC  1353  1409.0  \n",
       "...                    ...   ...     ...  \n",
       "19995          El Paso, TX  2130  2145.0  \n",
       "19996           Newark, NJ   700   707.0  \n",
       "19997           Newark, NJ  1850  1855.0  \n",
       "19998  Fort Lauderdale, FL  1000  1001.0  \n",
       "19999          Houston, TX   855   853.0  \n",
       "\n",
       "[20000 rows x 9 columns]"
      ]
     },
     "execution_count": 58,
     "metadata": {},
     "output_type": "execute_result"
    }
   ],
   "source": [
    "df_flights.iloc[:, 7:16]"
   ]
  },
  {
   "cell_type": "code",
   "execution_count": null,
   "metadata": {},
   "outputs": [],
   "source": [
    "df_flights[0]"
   ]
  },
  {
   "cell_type": "code",
   "execution_count": null,
   "metadata": {},
   "outputs": [],
   "source": [
    "df_flights[0] = pd.to_datetime(df_flights[0], format='%Y-%m-%d')"
   ]
  },
  {
   "cell_type": "code",
   "execution_count": null,
   "metadata": {},
   "outputs": [],
   "source": [
    "g = df_flights.groupby(df_flights[0].dt.strftime('%m')).count()"
   ]
  },
  {
   "cell_type": "code",
   "execution_count": null,
   "metadata": {},
   "outputs": [],
   "source": [
    "g"
   ]
  },
  {
   "cell_type": "code",
   "execution_count": null,
   "metadata": {},
   "outputs": [],
   "source": [
    "df_flights_datetime = df_flights.groupby(0).count()\n",
    "df_flights_datetime"
   ]
  },
  {
   "cell_type": "code",
   "execution_count": null,
   "metadata": {},
   "outputs": [],
   "source": [
    "df_flights.describe()"
   ]
  },
  {
   "cell_type": "code",
   "execution_count": null,
   "metadata": {},
   "outputs": [],
   "source": [
    "df_flights.nunique()"
   ]
  },
  {
   "cell_type": "code",
   "execution_count": null,
   "metadata": {},
   "outputs": [],
   "source": [
    "cur.execute(\"SELECT * from passengers LIMIT 10000\")\n",
    "res2 = cur.fetchall()\n",
    "df_passengers = pd.DataFrame(res2)"
   ]
  },
  {
   "cell_type": "code",
   "execution_count": null,
   "metadata": {},
   "outputs": [],
   "source": [
    "df_passengers"
   ]
  },
  {
   "cell_type": "code",
   "execution_count": null,
   "metadata": {},
   "outputs": [],
   "source": []
  }
 ],
 "metadata": {
  "kernelspec": {
   "display_name": "Python 3",
   "language": "python",
   "name": "python3"
  },
  "language_info": {
   "codemirror_mode": {
    "name": "ipython",
    "version": 3
   },
   "file_extension": ".py",
   "mimetype": "text/x-python",
   "name": "python",
   "nbconvert_exporter": "python",
   "pygments_lexer": "ipython3",
   "version": "3.6.5"
  }
 },
 "nbformat": 4,
 "nbformat_minor": 2
}
